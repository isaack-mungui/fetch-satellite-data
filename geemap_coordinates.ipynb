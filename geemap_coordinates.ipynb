{
 "cells": [
  {
   "cell_type": "code",
   "execution_count": 11,
   "id": "impressive-constitution",
   "metadata": {
    "scrolled": true
   },
   "outputs": [
    {
     "data": {
      "application/vnd.jupyter.widget-view+json": {
       "model_id": "c354e9c630a342238f4b54f30c56b6fe",
       "version_major": 2,
       "version_minor": 0
      },
      "text/plain": [
       "Map(center=[40, -100], controls=(WidgetControl(options=['position', 'transparent_bg'], widget=HBox(children=(T…"
      ]
     },
     "metadata": {},
     "output_type": "display_data"
    }
   ],
   "source": [
    "import geemap\n",
    "Map = geemap.Map()\n",
    "Map"
   ]
  },
  {
   "cell_type": "code",
   "execution_count": 31,
   "id": "animal-participation",
   "metadata": {
    "scrolled": true
   },
   "outputs": [
    {
     "data": {
      "text/plain": [
       "{'geodesic': False,\n",
       " 'type': 'Polygon',\n",
       " 'coordinates': [[[-7.028509, 53.078172],\n",
       "   [-7.028509, 53.123522],\n",
       "   [-6.97082, 53.123522],\n",
       "   [-6.97082, 53.078172],\n",
       "   [-7.028509, 53.078172]]]}"
      ]
     },
     "execution_count": 31,
     "metadata": {},
     "output_type": "execute_result"
    }
   ],
   "source": [
    "feature = Map.draw_last_feature\n",
    "ROI = feature.geometry()\n",
    "\n",
    "ROI.getInfo()"
   ]
  },
  {
   "cell_type": "code",
   "execution_count": 32,
   "id": "0cc30c7a",
   "metadata": {},
   "outputs": [],
   "source": [
    "import ee\n",
    "\n",
    "def maskS2clouds(image):\n",
    "    qa = image.select('QA60')\n",
    "    cloudBitMask = 1 << 10\n",
    "    cirrusBitMask = 1 << 11\n",
    "    mask = qa.bitwiseAnd(cloudBitMask).eq(0).And(\n",
    "                qa.bitwiseAnd(cirrusBitMask).eq(0))\n",
    "    return image.updateMask(mask).divide(10000)\n",
    "\n",
    "# Loading Sentinel-2 TOA reflectance data\n",
    "imageCollection = ee.ImageCollection('COPERNICUS/S2') \\\n",
    "    .filterDate('2020-01-01', '2021-03-15') \\\n",
    "    .filter(ee.Filter.lt('CLOUDY_PIXEL_PERCENTAGE', 5)) \\\n",
    "    .map(maskS2clouds) \\\n",
    "    .filterBounds(ROI) \\\n",
    "    .sort('CLOUDY_PIXEL_PERCENTAGE')\n",
    "\n",
    "raw_image = ee.Image(imageCollection.toList(imageCollection.size()).get(0))\n",
    "\n",
    "# Get the matrix for B2 band only\n",
    "B2_image = geemap.ee_to_numpy(raw_image.select(['B2']), region=ROI)"
   ]
  },
  {
   "cell_type": "code",
   "execution_count": 35,
   "id": "5960ee77",
   "metadata": {},
   "outputs": [
    {
     "data": {
      "text/plain": [
       "array([[0.1398    , 0.14120001, 0.15279999, ..., 0.15260001, 0.1389    ,\n",
       "        0.14480001],\n",
       "       [0.1429    , 0.1473    , 0.1481    , ..., 0.15360001, 0.1534    ,\n",
       "        0.1515    ],\n",
       "       [0.14219999, 0.1523    , 0.1532    , ..., 0.1514    , 0.1407    ,\n",
       "        0.1516    ],\n",
       "       ...,\n",
       "       [0.14560001, 0.1531    , 0.1508    , ..., 0.1428    , 0.13680001,\n",
       "        0.1417    ],\n",
       "       [0.14820001, 0.1496    , 0.1498    , ..., 0.14300001, 0.142     ,\n",
       "        0.1411    ],\n",
       "       [0.1521    , 0.14300001, 0.1402    , ..., 0.1408    , 0.1366    ,\n",
       "        0.14229999]])"
      ]
     },
     "execution_count": 35,
     "metadata": {},
     "output_type": "execute_result"
    }
   ],
   "source": [
    "import cv2\n",
    "\n",
    "target_size = (50, 50)\n",
    "\n",
    "B5_matrix = cv2.resize(B2_image, target_size, interpolation=cv2.INTER_NEAREST)\n",
    "B5_matrix"
   ]
  },
  {
   "cell_type": "code",
   "execution_count": null,
   "id": "3dc79eb3",
   "metadata": {},
   "outputs": [],
   "source": []
  }
 ],
 "metadata": {
  "kernelspec": {
   "display_name": "Python 3",
   "language": "python",
   "name": "python3"
  },
  "language_info": {
   "codemirror_mode": {
    "name": "ipython",
    "version": 3
   },
   "file_extension": ".py",
   "mimetype": "text/x-python",
   "name": "python",
   "nbconvert_exporter": "python",
   "pygments_lexer": "ipython3",
   "version": "3.9.2"
  }
 },
 "nbformat": 4,
 "nbformat_minor": 5
}
